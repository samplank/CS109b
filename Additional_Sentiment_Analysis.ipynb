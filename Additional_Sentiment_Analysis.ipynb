{
 "cells": [
  {
   "cell_type": "markdown",
   "metadata": {},
   "source": [
    "## Additional Sentiment Analysis"
   ]
  },
  {
   "cell_type": "code",
   "execution_count": 1,
   "metadata": {
    "collapsed": false,
    "deletable": true,
    "editable": true
   },
   "outputs": [],
   "source": [
    "from gensim import corpora\n",
    "from nltk.corpus import stopwords\n",
    "from nltk.stem import PorterStemmer\n",
    "from nltk.stem.wordnet import WordNetLemmatizer\n",
    "from sklearn.decomposition import RandomizedPCA, PCA\n",
    "from sklearn.ensemble import RandomForestClassifier\n",
    "from sklearn.feature_extraction.text import CountVectorizer\n",
    "from sklearn.model_selection import cross_val_score\n",
    "from sklearn.model_selection import train_test_split as sk_split\n",
    "from sklearn.multiclass import OneVsRestClassifier\n",
    "from sklearn.svm import SVC\n",
    "from textblob import TextBlob\n",
    "\n",
    "import gensim\n",
    "import json\n",
    "import matplotlib\n",
    "import matplotlib.pyplot as plt\n",
    "import nltk\n",
    "import numpy as np\n",
    "import os.path\n",
    "import pandas as pd\n",
    "import re\n",
    "import string\n",
    "import tmdb3 as tmdb\n",
    "import tmdbsimple as t_simple"
   ]
  },
  {
   "cell_type": "code",
   "execution_count": 2,
   "metadata": {
    "collapsed": true
   },
   "outputs": [],
   "source": [
    "%matplotlib inline\n",
    "matplotlib.rcParams.update({'font.size': 7})\n",
    "%config InlineBackend.figure_format = 'png2x'"
   ]
  },
  {
   "cell_type": "markdown",
   "metadata": {
    "deletable": true,
    "editable": true
   },
   "source": [
    "### Creating Dataset"
   ]
  },
  {
   "cell_type": "code",
   "execution_count": 3,
   "metadata": {
    "collapsed": false,
    "deletable": true,
    "editable": true
   },
   "outputs": [],
   "source": [
    "tmdb.set_key('98ca260f92ac9b42606914b232546089')\n",
    "t_simple.API_KEY = '98ca260f92ac9b42606914b232546089'"
   ]
  },
  {
   "cell_type": "code",
   "execution_count": 4,
   "metadata": {
    "collapsed": false,
    "deletable": true,
    "editable": true
   },
   "outputs": [],
   "source": [
    "def get_page(discover, year, page):\n",
    "    results = discover.movie(page=page, sort_by='popularity.desc', primary_release_year=year)['results']\n",
    "    return [movie['id'] for movie in results]\n",
    "\n",
    "# Merge lists of lists into a single list\n",
    "def flatten(lst):\n",
    "    return list(chain.from_iterable(lst))\n",
    "\n",
    "def get_yearly_ids(discover, year):\n",
    "    # Ensure that we do not make more than 40 requests per 10 seconds\n",
    "    sleep(10)\n",
    "    return flatten([get_page(discover, year, page) for page in range(1, 26)])\n",
    "\n",
    "def get_all_ids():\n",
    "    discover = t_simple.Discover()\n",
    "    results = flatten([get_yearly_ids(discover, year) for year in range(2000, 2017)])\n",
    "    \n",
    "    # Remove Super Gals (2001) from the list since it can no longer be found with the API\n",
    "    super_gals = 440656\n",
    "    if super_gals in results:\n",
    "        results.remove(super_gals)\n",
    "        \n",
    "    return results\n",
    "\n",
    "def list_to_str(lst):\n",
    "    return ', '.join([x.name for x in lst])\n",
    "\n",
    "def get_role(crew, role):\n",
    "    return next((person.name for person in crew if person.job == role), None)\n",
    "\n",
    "def get_actor(cast, main):\n",
    "    return cast[0 if main else (1 if len(cast) > 1 else 0)].name if len(cast) > 0 else None\n",
    "\n",
    "def get_row(m):\n",
    "    return {'id': m.id, 'title': m.title, 'tagline': m.tagline, 'overview': m.overview, 'runtime': m.runtime, \n",
    "            'budget': m.budget, 'revenue': m.revenue, 'releasedate': m.releasedate, 'popularity': m.popularity, \n",
    "            'userrating': m.userrating, 'votes': m.votes, 'adult': m.adult, 'genres': list_to_str(m.genres), \n",
    "            'studios': list_to_str(m.studios), 'countries': list_to_str(m.countries), \n",
    "            'keywords': list_to_str(m.keywords), 'director': get_role(m.crew, 'Director'), \n",
    "            'producer': get_role(m.crew, 'Producer'), 'editor': get_role(m.crew, 'Editor'), \n",
    "            'main_actor': get_actor(m.cast, True), 'supporting_actor': get_actor(m.cast, False), \n",
    "            'poster': m.poster.geturl('w500') if m.poster else None}\n",
    "\n",
    "def get_all_movies(movie_ids):\n",
    "    return pd.DataFrame([get_row(tmdb.Movie(m_id)) for m_id in movie_ids])\n",
    "\n",
    "def genre_to_matrix(genre_str):\n",
    "    genres = genre_str.split(', ')\n",
    "    return [(1 if g in genres else 0) for g in genre_lst]\n",
    "\n",
    "def get_genre_lst():\n",
    "    genres = json.loads(tmdb.request.Request('/genre/movie/list').read())['genres']\n",
    "    return [genre['name'] for genre in genres]\n",
    "\n",
    "def get_posters(links, indices):\n",
    "    posters = [(Image.open(StringIO(urllib.urlopen(img).read())), sleep(0.25))[0] for img in links]\n",
    "    return pd.DataFrame({'poster': posters}, index=indices)"
   ]
  },
  {
   "cell_type": "code",
   "execution_count": 5,
   "metadata": {
    "collapsed": false,
    "deletable": true,
    "editable": true,
    "scrolled": false
   },
   "outputs": [
    {
     "data": {
      "text/html": [
       "<div>\n",
       "<table border=\"1\" class=\"dataframe\">\n",
       "  <thead>\n",
       "    <tr style=\"text-align: right;\">\n",
       "      <th></th>\n",
       "      <th>adult</th>\n",
       "      <th>budget</th>\n",
       "      <th>countries</th>\n",
       "      <th>director</th>\n",
       "      <th>editor</th>\n",
       "      <th>keywords</th>\n",
       "      <th>main_actor</th>\n",
       "      <th>overview</th>\n",
       "      <th>popularity</th>\n",
       "      <th>producer</th>\n",
       "      <th>releasedate</th>\n",
       "      <th>revenue</th>\n",
       "      <th>runtime</th>\n",
       "      <th>studios</th>\n",
       "      <th>supporting_actor</th>\n",
       "      <th>tagline</th>\n",
       "      <th>title</th>\n",
       "      <th>userrating</th>\n",
       "      <th>votes</th>\n",
       "    </tr>\n",
       "    <tr>\n",
       "      <th>id</th>\n",
       "      <th></th>\n",
       "      <th></th>\n",
       "      <th></th>\n",
       "      <th></th>\n",
       "      <th></th>\n",
       "      <th></th>\n",
       "      <th></th>\n",
       "      <th></th>\n",
       "      <th></th>\n",
       "      <th></th>\n",
       "      <th></th>\n",
       "      <th></th>\n",
       "      <th></th>\n",
       "      <th></th>\n",
       "      <th></th>\n",
       "      <th></th>\n",
       "      <th></th>\n",
       "      <th></th>\n",
       "      <th></th>\n",
       "    </tr>\n",
       "  </thead>\n",
       "  <tbody>\n",
       "    <tr>\n",
       "      <th>77</th>\n",
       "      <td>False</td>\n",
       "      <td>9000000</td>\n",
       "      <td>United States of America</td>\n",
       "      <td>Christopher Nolan</td>\n",
       "      <td>Dody Dorn</td>\n",
       "      <td>individual, insulin, tattoo, waitress, amnesia...</td>\n",
       "      <td>Guy Pearce</td>\n",
       "      <td>Suffering short-term memory loss after a head ...</td>\n",
       "      <td>3.666593</td>\n",
       "      <td>Jennifer Todd</td>\n",
       "      <td>2000-10-20</td>\n",
       "      <td>39723096</td>\n",
       "      <td>113.0</td>\n",
       "      <td>Summit Entertainment, Newmarket Capital Group,...</td>\n",
       "      <td>Joe Pantoliano</td>\n",
       "      <td>Some memories are best forgotten.</td>\n",
       "      <td>Memento</td>\n",
       "      <td>8.0</td>\n",
       "      <td>2927</td>\n",
       "    </tr>\n",
       "    <tr>\n",
       "      <th>98</th>\n",
       "      <td>False</td>\n",
       "      <td>103000000</td>\n",
       "      <td>United Kingdom, United States of America</td>\n",
       "      <td>Ridley Scott</td>\n",
       "      <td>Pietro Scalia</td>\n",
       "      <td>rome, gladiator, roman empire, slavery, battle...</td>\n",
       "      <td>Russell Crowe</td>\n",
       "      <td>General Maximus' success in battle earns the f...</td>\n",
       "      <td>4.943334</td>\n",
       "      <td>David Franzoni</td>\n",
       "      <td>2000-05-01</td>\n",
       "      <td>457640427</td>\n",
       "      <td>155.0</td>\n",
       "      <td>DreamWorks SKG, Universal Pictures, Scott Free...</td>\n",
       "      <td>Joaquin Phoenix</td>\n",
       "      <td>A Hero Will Rise.</td>\n",
       "      <td>Gladiator</td>\n",
       "      <td>7.8</td>\n",
       "      <td>4343</td>\n",
       "    </tr>\n",
       "    <tr>\n",
       "      <th>107</th>\n",
       "      <td>False</td>\n",
       "      <td>10000000</td>\n",
       "      <td>United Kingdom, United States of America</td>\n",
       "      <td>Guy Ritchie</td>\n",
       "      <td>Jon Harris</td>\n",
       "      <td>gypsy, bare knuckle boxing, slang, trailer par...</td>\n",
       "      <td>Jason Statham</td>\n",
       "      <td>The second film from British director Guy Ritc...</td>\n",
       "      <td>4.769231</td>\n",
       "      <td>Matthew Vaughn</td>\n",
       "      <td>2000-09-01</td>\n",
       "      <td>83557872</td>\n",
       "      <td>103.0</td>\n",
       "      <td>Columbia Pictures Corporation, Screen Gems, SK...</td>\n",
       "      <td>Brad Pitt</td>\n",
       "      <td>Stealin' Stones and Breakin' Bones.</td>\n",
       "      <td>Snatch</td>\n",
       "      <td>7.6</td>\n",
       "      <td>2414</td>\n",
       "    </tr>\n",
       "  </tbody>\n",
       "</table>\n",
       "</div>"
      ],
      "text/plain": [
       "     adult     budget                                 countries  \\\n",
       "id                                                                \n",
       "77   False    9000000                  United States of America   \n",
       "98   False  103000000  United Kingdom, United States of America   \n",
       "107  False   10000000  United Kingdom, United States of America   \n",
       "\n",
       "              director         editor  \\\n",
       "id                                      \n",
       "77   Christopher Nolan      Dody Dorn   \n",
       "98        Ridley Scott  Pietro Scalia   \n",
       "107        Guy Ritchie     Jon Harris   \n",
       "\n",
       "                                              keywords     main_actor  \\\n",
       "id                                                                      \n",
       "77   individual, insulin, tattoo, waitress, amnesia...     Guy Pearce   \n",
       "98   rome, gladiator, roman empire, slavery, battle...  Russell Crowe   \n",
       "107  gypsy, bare knuckle boxing, slang, trailer par...  Jason Statham   \n",
       "\n",
       "                                              overview  popularity  \\\n",
       "id                                                                   \n",
       "77   Suffering short-term memory loss after a head ...    3.666593   \n",
       "98   General Maximus' success in battle earns the f...    4.943334   \n",
       "107  The second film from British director Guy Ritc...    4.769231   \n",
       "\n",
       "           producer releasedate    revenue  runtime  \\\n",
       "id                                                    \n",
       "77    Jennifer Todd  2000-10-20   39723096    113.0   \n",
       "98   David Franzoni  2000-05-01  457640427    155.0   \n",
       "107  Matthew Vaughn  2000-09-01   83557872    103.0   \n",
       "\n",
       "                                               studios supporting_actor  \\\n",
       "id                                                                        \n",
       "77   Summit Entertainment, Newmarket Capital Group,...   Joe Pantoliano   \n",
       "98   DreamWorks SKG, Universal Pictures, Scott Free...  Joaquin Phoenix   \n",
       "107  Columbia Pictures Corporation, Screen Gems, SK...        Brad Pitt   \n",
       "\n",
       "                                 tagline      title  userrating  votes  \n",
       "id                                                                      \n",
       "77     Some memories are best forgotten.    Memento         8.0   2927  \n",
       "98                     A Hero Will Rise.  Gladiator         7.8   4343  \n",
       "107  Stealin' Stones and Breakin' Bones.     Snatch         7.6   2414  "
      ]
     },
     "execution_count": 5,
     "metadata": {},
     "output_type": "execute_result"
    }
   ],
   "source": [
    "movie_path = './datasets/movies.csv'; poster_path = './datasets/posters.pkl'\n",
    "\n",
    "if os.path.isfile(movie_path):\n",
    "    movies = pd.read_csv(movie_path)\n",
    "else:\n",
    "    movies = get_all_movies(get_all_ids())\n",
    "    movies.to_csv(movie_path)\n",
    "    \n",
    "movies.set_index('id', inplace=True)\n",
    "\n",
    "# Drop movies without posters\n",
    "movies = movies.loc[movies['poster'].dropna().index]\n",
    "\n",
    "# Convert genre lists to binary lists\n",
    "genre_lst = get_genre_lst()\n",
    "genres = [genre_to_matrix(str(genres)) for genres in movies['genres']]\n",
    "\n",
    "# Set up metadata dataset\n",
    "metadata = movies.drop(labels=['genres', 'poster'], axis=1)\n",
    "metadata.head(3)"
   ]
  },
  {
   "cell_type": "markdown",
   "metadata": {
    "deletable": true,
    "editable": true
   },
   "source": [
    "### Sentiment Analysis"
   ]
  },
  {
   "cell_type": "markdown",
   "metadata": {
    "deletable": true,
    "editable": true
   },
   "source": [
    "#### Subjectivity & Polarity Scores"
   ]
  },
  {
   "cell_type": "code",
   "execution_count": 6,
   "metadata": {
    "collapsed": false,
    "deletable": true,
    "editable": true
   },
   "outputs": [],
   "source": [
    "# new dataframe just with the strings\n",
    "new = pd.DataFrame(metadata['keywords'] + ' ' + metadata['overview'] + ' ' + metadata['tagline'])\n",
    "new.columns = ['text']\n",
    "\n",
    "# save the null indices\n",
    "nullrows = []\n",
    "for i in range(new.shape[0]):\n",
    "    if pd.isnull(new.iloc[i, 0]) == True: \n",
    "        nullrows.append(new.index[i])"
   ]
  },
  {
   "cell_type": "code",
   "execution_count": 7,
   "metadata": {
    "collapsed": true,
    "deletable": true,
    "editable": true
   },
   "outputs": [],
   "source": [
    "# try to replace null rows with some part of the word summaries\n",
    "for row in nullrows:\n",
    "    if ((pd.isnull(metadata['tagline'][row]) == True) & \n",
    "        (pd.isnull(metadata['overview'][row]) == True) & (pd.isnull(metadata['keywords'][row]) == True)): \n",
    "        new.loc[row] = new.loc[row]\n",
    "    elif (pd.isnull(metadata['tagline'][row]) == True) & (pd.isnull(metadata['overview'])[row] == True):\n",
    "        new.loc[row] = metadata['keywords'][row]\n",
    "    elif (pd.isnull(metadata['tagline'][row]) == True) & (pd.isnull(metadata['keywords'])[row] == True):\n",
    "        new.loc[row] = metadata['overview'][row]\n",
    "    elif (pd.isnull(metadata['keywords'][row]) == True) & (pd.isnull(metadata['overview'])[row] == True):\n",
    "        new.loc[row] = metadata['tagline'][row]\n",
    "    elif (pd.isnull(metadata['keywords'][row]) == True):\n",
    "        new.loc[row] = metadata['tagline'][row] + ' ' + metadata['overview'][row]\n",
    "    elif (pd.isnull(metadata['tagline'][row]) == True):\n",
    "        new.loc[row] = metadata['keywords'][row] + ' ' + metadata['overview'][row]\n",
    "    elif (pd.isnull(metadata['overview'][row]) == True):\n",
    "        new.loc[row] = metadata['keywords'][row] + ' ' + metadata['tagline'][row]\n",
    "        \n",
    "# drop any remaining \n",
    "new = new.dropna()"
   ]
  },
  {
   "cell_type": "code",
   "execution_count": 8,
   "metadata": {
    "collapsed": false,
    "deletable": true,
    "editable": true
   },
   "outputs": [],
   "source": [
    "# apply the sentiment analysis to each summary\n",
    "tok_reviews = []\n",
    "for i in range(0,new.shape[0]):\n",
    "    tok_reviews.append(TextBlob(new.iloc[i, 0].decode('utf-8')).sentiment)\n",
    "    \n",
    "# save polarity and subjectivity score\n",
    "new['tok_reviews'] = tok_reviews\n",
    "\n",
    "# create a series of the polarity and subjectivity score of each review\n",
    "new[['polarity', 'subjectivity']] = new['tok_reviews'].apply(pd.Series)\n",
    "\n",
    "polarity = []\n",
    "subjectivity = []\n",
    "\n",
    "for index in metadata.index:\n",
    "    try:\n",
    "        # append polarity & subjectivity scores if index exists in \"new\" dataframe\n",
    "        polarity.append(new['polarity'][index])\n",
    "        subjectivity.append(new['subjectivity'][index])\n",
    "    except:\n",
    "        # if that index was one of the ones removed & thus is null, we simply add 'Null' to the index\n",
    "        # we can change this later based on how we want to approach this issue\n",
    "        polarity.append(None)\n",
    "        subjectivity.append(None)\n",
    "\n",
    "# new columns in metadata\n",
    "metadata['polarity'] = polarity\n",
    "metadata['subjectivity'] = subjectivity"
   ]
  },
  {
   "cell_type": "markdown",
   "metadata": {
    "deletable": true,
    "editable": true
   },
   "source": [
    "#### Most Frequent Words per Genre"
   ]
  },
  {
   "cell_type": "code",
   "execution_count": 9,
   "metadata": {
    "collapsed": true,
    "deletable": true,
    "editable": true
   },
   "outputs": [],
   "source": [
    "def genre_freq(genre, subset):\n",
    "    # keep only the part of the dataframe that has movies in specific genre\n",
    "    temp = movies[pd.notnull(movies['genres'])]\n",
    "    # decide whether to subset the dataset or not\n",
    "    if subset == True:\n",
    "        indices = temp[temp['genres'].str.contains(genre)].index\n",
    "    else:\n",
    "        indices = temp.index\n",
    "    subset_new = new.ix[indices]\n",
    "    subset_new = subset_new.dropna()\n",
    "    # create an array for sentences \n",
    "    sentences = []\n",
    "\n",
    "    # implements vectorizer and gets rid of stop words like 'and' and 'there'\n",
    "    vect = CountVectorizer(stop_words='english')\n",
    "    # implements a stemmer to group words that have the same stems \n",
    "    stemmer = PorterStemmer()\n",
    "\n",
    "    # iterate through the data  \n",
    "    for index, row in subset_new.iterrows():\n",
    "        # takes out the numbers from each sentence\n",
    "        letters_only = re.sub('[^a-zA-Z]', ' ', row.text)\n",
    "        # tokenize the sentence in order to stem the words\n",
    "        tokenize = nltk.word_tokenize(letters_only)\n",
    "        # finds the stem of each word \n",
    "        for i in range(len(tokenize)):\n",
    "            tokenize[i] = stemmer.stem(tokenize[i]).lower()\n",
    "        # appends each edited sentence (without numbers and with stems) to sentences array\n",
    "        sentences.append(' '.join(tokenize))\n",
    "    \n",
    "    # create dictionary of frequency of each word\n",
    "    words = [word for word in nltk.word_tokenize(''.join(sentences)) if word not in stopwords.words('english')]\n",
    "    freq = nltk.FreqDist(words)\n",
    "    \n",
    "    # convert dictionary of frequencies to dataframe\n",
    "    explore_freq = pd.DataFrame.from_dict(freq.most_common(20))\n",
    "    explore_freq.columns = ['Words', 'Frequency']\n",
    "\n",
    "    return(explore_freq)"
   ]
  },
  {
   "cell_type": "code",
   "execution_count": 10,
   "metadata": {
    "collapsed": false,
    "deletable": true,
    "editable": true
   },
   "outputs": [
    {
     "data": {
      "image/png": "[encoded data removed]",
      "text/plain": [
       "<matplotlib.figure.Figure at 0x7f154a395290>"
      ]
     },
     "metadata": {
      "image/png": {
       "height": 593,
       "width": 1057
      }
     },
     "output_type": "display_data"
    }
   ],
   "source": [
    "# visualize the most frequent words\n",
    "explore_freq = genre_freq('none', False)\n",
    "\n",
    "# create bar graph for the most frequent words \n",
    "X = np.arange(20)\n",
    "plt.figure(figsize=(10, 5), dpi=125)\n",
    "plt.bar(X, explore_freq.iloc[:20, 1], width=0.5, color ='#29B6F6')\n",
    "\n",
    "# label and rotate the x-ticks\n",
    "plt.xticks(X, explore_freq.iloc[:20, 0], rotation=90)\n",
    "\n",
    "# label the graph and the axes\n",
    "plt.title('Most Frequent Words')\n",
    "plt.xlabel('Words')\n",
    "plt.ylabel('Frequency')\n",
    "plt.show()"
   ]
  }
 ],
 "metadata": {
  "anaconda-cloud": {},
  "kernelspec": {
   "display_name": "Python 2",
   "language": "python",
   "name": "python2"
  },
  "language_info": {
   "codemirror_mode": {
    "name": "ipython",
    "version": 2
   },
   "file_extension": ".py",
   "mimetype": "text/x-python",
   "name": "python",
   "nbconvert_exporter": "python",
   "pygments_lexer": "ipython2",
   "version": "2.7.12"
  }
 },
 "nbformat": 4,
 "nbformat_minor": 0
}
