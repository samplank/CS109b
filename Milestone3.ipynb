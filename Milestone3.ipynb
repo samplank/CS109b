{
 "cells": [
  {
   "cell_type": "markdown",
   "metadata": {
    "deletable": true,
    "editable": true
   },
   "source": [
    "## Milestone 3: Traditional statistical and machine learning methods\n",
    "\n",
    "Think about how you would address the genre prediction problem with traditional statistical or machine learning methods. This includes everything you learned about modeling in this course before the deep learning part. Implement your ideas and compare different classifiers. Report your results and discuss what challenges you faced and how you overcame them. What works and what does not? If there are parts that do not work as expected, make sure to discuss briefly what you think is the cause and how you would address this if you would have more time and resources. \n",
    "\n",
    "You do not necessarily need to use the movie posters for this step, but even without a background in computer vision, there are very simple features you can extract from the posters to help guide a traditional machine learning model. Think about the PCA lecture for example, or how to use clustering to extract color information. In addition to considering the movie posters it would be worthwhile to have a look at the metadata that IMDb provides. \n",
    "\n",
    "You could use Spark and the [ML library](https://spark.apache.org/docs/latest/ml-features.html#word2vec) to build your model features from the data. This may be especially beneficial if you use additional data, e.g., in text form.\n",
    "\n",
    "You also need to think about how you are going to evaluate your classifier. Which metrics or scores will you report to show how good the performance is?\n",
    "\n",
    "The notebook to submit this week should at least include:\n",
    "\n",
    "- Detailed description and implementation of two different models\n",
    "- Description of your performance metrics\n",
    "- Careful performance evaluations for both models\n",
    "- Visualizations of the metrics for performance evaluation\n",
    "- Discussion of the differences between the models, their strengths, weaknesses, etc. \n",
    "- Discussion of the performances you achieved, and how you might be able to improve them in the future"
   ]
  },
  {
   "cell_type": "markdown",
   "metadata": {
    "deletable": true,
    "editable": true
   },
   "source": [
    "### Dataset Description"
   ]
  },
  {
   "cell_type": "markdown",
   "metadata": {
    "deletable": true,
    "editable": true
   },
   "source": [
    "As a brief overview, in this portion of the project, we were tasked with creating models that would predict movie genre based on the features we had compiled in the past milestone. The way we structured our data, each movie in the dataset was assigned a label for each genre (1’s and 0’s). We decided we would train our models to predict each genre that the TMDB database provided. Additionally, we included a number of features from TMDB for each movie. Amongst these were features containing the actors and staff involved with the movie, the movie’s keywords, tagline, and overview, and its budget, popularity, revenue, runtime, and ratings. \n",
    "\n",
    "This week, we decided to add more feature data so that our models would be more robust. Specifically, we wanted to make use of the data given to us from TMDB and transform it into more useful features. Towards this end, we performed topic modeling and sentiment analysis on the descriptions of the movies. Specifically, we combined the keywords, tagline, and overview features into one sentence and assigned a polarity and subjectivity value to the sentence using Python’s TextBlob package; furthermore, we analyzed the top words per genre (such as “love”, “relationship”, “murder”) and added these to the dataset as indicator variables. We also decided to add data from the posters. To do this, we performed PCA on the posters and included the scores for each transformed movie poster in the dataset. Finally, rather than binary encoding the names of thousands of different actors, editors, and directors, we only kept the top 100 names of actors, supporting actors, directors, producers, and studios. \n",
    "\n",
    "After all these modifications to the dataset, however, we had nearly 600 columns/predictors, and so we decided to apply PCA to the dataset; interestingly, we found that PCA was quite effective, in that 97% of the variance of the data could be explained by just the first principal component, 2% by the second principal component, and negligible amounts by the subsequent components. Thus, we were able to decrease the size of our training set from nearly 600 predictors to less than a dozen! By reducing the dimensionality significantly, we made our model much more computationally efficient. "
   ]
  },
  {
   "cell_type": "markdown",
   "metadata": {
    "deletable": true,
    "editable": true
   },
   "source": [
    "### Metadata Dataset"
   ]
  },
  {
   "cell_type": "code",
   "execution_count": 203,
   "metadata": {
    "collapsed": false,
    "deletable": true,
    "editable": true
   },
   "outputs": [],
   "source": [
    "from gensim import corpora\n",
    "from nltk.corpus import stopwords\n",
    "from nltk.stem import PorterStemmer\n",
    "from nltk.stem.wordnet import WordNetLemmatizer\n",
    "from progressbar import ProgressBar\n",
    "from sklearn.decomposition import RandomizedPCA, PCA\n",
    "from sklearn.ensemble import RandomForestClassifier\n",
    "from sklearn.feature_extraction.text import CountVectorizer\n",
    "from sklearn.model_selection import cross_val_score\n",
    "from sklearn.model_selection import train_test_split as sk_split\n",
    "from sklearn.multiclass import OneVsRestClassifier\n",
    "from sklearn.svm import SVC\n",
    "from textblob import TextBlob\n",
    "import gensim\n",
    "import json\n",
    "import matplotlib.pyplot as plt\n",
    "import nltk\n",
    "import numpy as np\n",
    "import os.path\n",
    "import pandas as pd\n",
    "import re\n",
    "import string\n",
    "import tmdb3 as tmdb\n",
    "%matplotlib inline"
   ]
  },
  {
   "cell_type": "code",
   "execution_count": 2,
   "metadata": {
    "collapsed": true,
    "deletable": true,
    "editable": true
   },
   "outputs": [],
   "source": [
    "tmdb.set_key('98ca260f92ac9b42606914b232546089')"
   ]
  },
  {
   "cell_type": "code",
   "execution_count": 3,
   "metadata": {
    "collapsed": true,
    "deletable": true,
    "editable": true
   },
   "outputs": [],
   "source": [
    "def get_genre_lst():\n",
    "    genres = json.loads(tmdb.request.Request('/genre/movie/list').read())['genres']\n",
    "    return [genre['name'] for genre in genres]\n",
    "\n",
    "def get_top_matrix(df, column, n=100):\n",
    "    values, counts = np.unique(df[column].dropna(), return_counts=True)\n",
    "    top_n = values[np.argsort(counts)[::-1][:n]]\n",
    "    names = ['{}.{}'.format(column, n) for n in range(n)]\n",
    "    return pd.DataFrame([[(1 if t == l else 0) for t in top_n] for l in df[column]], index=df.index, columns=names)\n",
    "\n",
    "def genre_freq(genre):\n",
    "    # keep only the part of the dataframe that has movies in specific genre\n",
    "    temp = movies[pd.notnull(movies['genres'])]\n",
    "    indices = temp[temp['genres'].str.contains(genre)].index\n",
    "    subset_new = new.ix[indices]\n",
    "    subset_new = subset_new.dropna()\n",
    "    # create an array for sentences\n",
    "    sentences = []\n",
    "\n",
    "    # implements vectorizer and gets rid of stop words like 'and' and 'there'\n",
    "    vect = CountVectorizer(stop_words=\"english\")\n",
    "    # implements a stemmer to group words that have the same stems \n",
    "    stemmer = PorterStemmer()\n",
    "\n",
    "    # iterate through the data  \n",
    "    for index, row in subset_new.iterrows():\n",
    "        # takes out the numbers from each sentence\n",
    "        letters_only = re.sub(\"[^a-zA-Z]\", \" \", row.text)\n",
    "        # tokenize the sentence in order to stem the words\n",
    "        tokenize = nltk.word_tokenize(letters_only)\n",
    "        # finds the stem of each word \n",
    "        for i in range(len(tokenize)):\n",
    "            tokenize[i] = stemmer.stem(tokenize[i]).lower()\n",
    "        # appends each edited sentence (without numbers and with stems) to sentences array\n",
    "        sentences.append(' '.join(tokenize))\n",
    "    \n",
    "    # create dictionary of frequency of each word\n",
    "    words = [word for word in nltk.word_tokenize(''.join(sentences)) if word not in stopwords.words('english')]\n",
    "    freq = nltk.FreqDist(words)\n",
    "    \n",
    "    # convert dictionary of frequencies to dataframe\n",
    "    explore_freq = pd.DataFrame.from_dict(freq.most_common(20))\n",
    "    explore_freq.columns = ['Words', 'Frequency']\n",
    "\n",
    "    return(explore_freq)\n",
    "\n",
    "def lda_topics(row):\n",
    "    summary = row[\"overview\"]\n",
    "    probs = ldamodel[dictionary.doc2bow((clean(unicode(summary, \"utf-8\"))).split())]\n",
    "    if len(probs) == 5:\n",
    "        probs = [y for x,y in probs]\n",
    "        return probs[0],probs[1],probs[2],probs[3],probs[4]\n",
    "    else:\n",
    "        indxs = [x for x,y in probs]\n",
    "        if 0 not in indxs:\n",
    "            probs.append((0,0.0))\n",
    "        if 1 not in indxs:\n",
    "            probs.append((1,0.0))\n",
    "        if 2 not in indxs:\n",
    "            probs.append((2,0.0))\n",
    "        if 3 not in indxs:\n",
    "            probs.append((3,0.0))\n",
    "        if 4 not in indxs:\n",
    "            probs.append((4,0.0))\n",
    "        probs = sorted(probs, key=lambda tup: tup[0])\n",
    "        probs = [y for x,y in probs]\n",
    "        return probs[0],probs[1],probs[2],probs[3],probs[4]\n",
    "    \n",
    "def clean(doc):\n",
    "    stop_free = \" \".join([i for i in doc.lower().split() if i not in stop])\n",
    "    punc_free = ''.join(ch for ch in stop_free if ch not in exclude)\n",
    "    normalized = \" \".join(lemma.lemmatize(word) for word in punc_free.split())\n",
    "    return normalized"
   ]
  },
  {
   "cell_type": "code",
   "execution_count": 3,
   "metadata": {
    "collapsed": false,
    "deletable": true,
    "editable": true,
    "scrolled": false
   },
   "outputs": [],
   "source": [
    "metadata_path = './Datasets/metadata.pkl'\n",
    "\n",
    "if not os.path.isfile(metadata_path):\n",
    "    # Load milestone 2 datasets\n",
    "    movies = pd.read_csv('./Datasets/movies.csv', index_col='id')\n",
    "    posters = pd.read_pickle('./Datasets/posters_w185.pkl')\n",
    "\n",
    "    # Drop movies without posters\n",
    "    movies = movies.loc[movies['poster'].dropna().index]\n",
    "\n",
    "    # Set up metadata dataset\n",
    "    metadata = movies.drop(labels=['adult', 'countries', 'editor', 'releasedate', 'genres', 'poster'], axis=1)\n",
    "        \n",
    "genres = pd.read_pickle('./Datasets/genres.pkl')"
   ]
  },
  {
   "cell_type": "code",
   "execution_count": 5,
   "metadata": {
    "collapsed": false,
    "deletable": true,
    "editable": true
   },
   "outputs": [],
   "source": [
    "if not os.path.isfile(metadata_path):\n",
    "    enc_columns = ['director', 'main_actor', 'producer', 'supporting_actor', 'studios']\n",
    "    metadata_enc = pd.DataFrame()\n",
    "\n",
    "    # Use binary encoding with the top 100 members of the 5 columns above\n",
    "    for column in metadata.columns:\n",
    "        if column in enc_columns:\n",
    "            encoding = get_top_matrix(metadata, column)\n",
    "            metadata_enc = pd.concat([metadata_enc, encoding], axis=1)\n",
    "        else:\n",
    "            metadata_enc = pd.concat([metadata_enc, metadata[column]], axis=1)\n",
    "\n",
    "    metadata_enc.head(3)"
   ]
  },
  {
   "cell_type": "code",
   "execution_count": 6,
   "metadata": {
    "collapsed": false,
    "deletable": true,
    "editable": true
   },
   "outputs": [],
   "source": [
    "if not os.path.isfile(metadata_path):\n",
    "    # new dataframe just with the strings\n",
    "    new = pd.DataFrame(metadata['keywords'] + ' ' + metadata['overview'] + ' ' + metadata['tagline'])\n",
    "    new.columns = ['text']\n",
    "\n",
    "    # save the null indices\n",
    "    nullrows = []\n",
    "    for i in range(new.shape[0]):\n",
    "        if pd.isnull(new.iloc[i, 0]) == True: \n",
    "            nullrows.append(new.index[i])\n",
    "\n",
    "    # try to replace null rows with some part of the word summaries\n",
    "    for row in nullrows:\n",
    "        if ((pd.isnull(metadata['tagline'][row]) == True) & \n",
    "            (pd.isnull(metadata['overview'][row]) == True) & (pd.isnull(metadata['keywords'][row]) == True)): \n",
    "            new.loc[row] = new.loc[row]\n",
    "        elif (pd.isnull(metadata['tagline'][row]) == True) & (pd.isnull(metadata['overview'])[row] == True):\n",
    "            new.loc[row] = metadata['keywords'][row]\n",
    "        elif (pd.isnull(metadata['tagline'][row]) == True) & (pd.isnull(metadata['keywords'])[row] == True):\n",
    "            new.loc[row] = metadata['overview'][row]\n",
    "        elif (pd.isnull(metadata['keywords'][row]) == True) & (pd.isnull(metadata['overview'])[row] == True):\n",
    "            new.loc[row] = metadata['tagline'][row]\n",
    "        elif (pd.isnull(metadata['keywords'][row]) == True):\n",
    "            new.loc[row] = metadata['tagline'][row] + ' ' + metadata['overview'][row]\n",
    "        elif (pd.isnull(metadata['tagline'][row]) == True):\n",
    "            new.loc[row] = metadata['keywords'][row] + ' ' + metadata['overview'][row]\n",
    "        elif (pd.isnull(metadata['overview'][row]) == True):\n",
    "            new.loc[row] = metadata['keywords'][row] + ' ' + metadata['tagline'][row]\n",
    "\n",
    "    # drop any remaining \n",
    "    new = new.dropna()"
   ]
  },
  {
   "cell_type": "code",
   "execution_count": 7,
   "metadata": {
    "collapsed": false,
    "deletable": true,
    "editable": true
   },
   "outputs": [],
   "source": [
    "if not os.path.isfile(metadata_path):\n",
    "    #apply the sentiment analysis to each summary\n",
    "    tok_reviews = []\n",
    "    for i in range(0,new.shape[0]):\n",
    "        tok_reviews.append(TextBlob(new.iloc[i, 0].decode('utf-8')).sentiment)\n",
    "\n",
    "    # save polarity and subjectivity score\n",
    "    new['tok_reviews'] = tok_reviews\n",
    "    #create a series of the polarity and subjectivity score of each review\n",
    "    new[['polarity', 'subjectivity']] = new['tok_reviews'].apply(pd.Series)\n",
    "\n",
    "    polarity = []\n",
    "    subjectivity = []\n",
    "\n",
    "    for index in metadata.index:\n",
    "        try:\n",
    "            # append polarity & subjectivity scores if index exists in \"new\" dataframe\n",
    "            polarity.append(new['polarity'][index])\n",
    "            subjectivity.append(new['subjectivity'][index])\n",
    "        except:\n",
    "            # if that index was one of the ones removed & thus is null, we simply add 'Null' to the index\n",
    "            # we can change this later based on how we want to approach this issue\n",
    "            polarity.append(None)\n",
    "            subjectivity.append(None)\n",
    "\n",
    "    # new columns in metadata\n",
    "    metadata['polarity'] = polarity\n",
    "    metadata['subjectivity'] = subjectivity"
   ]
  },
  {
   "cell_type": "code",
   "execution_count": 8,
   "metadata": {
    "collapsed": false,
    "deletable": true,
    "editable": true
   },
   "outputs": [],
   "source": [
    "if not os.path.isfile(metadata_path):\n",
    "    top_vocab_words = []\n",
    "\n",
    "    for genre in get_genre_lst():\n",
    "        explore_freq = genre_freq(genre)\n",
    "        for i in range(6,11):\n",
    "            top_vocab_words.append(str(explore_freq.loc[i]['Words']))\n",
    "\n",
    "    top_vocab_words = list(set(top_vocab_words))\n",
    "    num_words = len(top_vocab_words)\n",
    "\n",
    "    # create an array for sentences \n",
    "    sentences = []\n",
    "\n",
    "    # implements vectorizer and gets rid of stop words like 'and' and 'there'\n",
    "    vect = CountVectorizer(vocabulary = top_vocab_words)\n",
    "    # implements a stemmer to group words that have the same stems \n",
    "    stemmer = PorterStemmer()\n",
    "\n",
    "    # iterate through the data  \n",
    "    for index, row in new.iterrows():\n",
    "        # takes out the numbers from each sentence\n",
    "        letters_only = re.sub(\"[^a-zA-Z]\", \" \", row.text)\n",
    "        # tokenize the sentence in order to stem the words\n",
    "        tokenize = nltk.word_tokenize(letters_only)\n",
    "        # finds the stem of each word \n",
    "        for i in range(len(tokenize)):\n",
    "            tokenize[i] = stemmer.stem(tokenize[i]).lower()\n",
    "        # appends each edited sentence (without numbers and with stems) to sentences array\n",
    "        sentences.append(' '.join(tokenize))\n",
    "\n",
    "    # create array of frequencies for each word \n",
    "    word_counts = vect.fit_transform(sentences).toarray()"
   ]
  },
  {
   "cell_type": "code",
   "execution_count": 9,
   "metadata": {
    "collapsed": false,
    "deletable": true,
    "editable": true
   },
   "outputs": [],
   "source": [
    "if not os.path.isfile(metadata_path):\n",
    "    original_columnsize = len(metadata.columns)\n",
    "\n",
    "    # new columns for the top words\n",
    "    for word in top_vocab_words:\n",
    "        metadata[str(word)] = \"\"\n",
    "\n",
    "    # keep track of word_counts count\n",
    "    count = 0\n",
    "    # keep track of metadata count\n",
    "    overall = 0\n",
    "    # add in the word counts to metadata\n",
    "    for index in metadata.index:\n",
    "        # if index isn't null, write in word_counts\n",
    "        if index in new.index:\n",
    "            metadata.iloc[overall, original_columnsize:original_columnsize+num_words] = word_counts[count]\n",
    "            count = count + 1\n",
    "        # else just put 0's for all the word counts\n",
    "        else:\n",
    "            metadata.iloc[overall, original_columnsize:original_columnsize+num_words] = np.zeros(word_counts.shape[1])\n",
    "        overall = overall + 1\n",
    "\n",
    "    metadata.head(2)"
   ]
  },
  {
   "cell_type": "code",
   "execution_count": 10,
   "metadata": {
    "collapsed": false,
    "deletable": true,
    "editable": true
   },
   "outputs": [],
   "source": [
    "if not os.path.isfile(metadata_path):\n",
    "    stop = set(stopwords.words('english'))\n",
    "    exclude = set(string.punctuation) \n",
    "    lemma = WordNetLemmatizer()\n",
    "\n",
    "    metadata.loc[pd.isnull(metadata.overview), \"overview\"] = \"none\"\n",
    "\n",
    "    doc_complete = list(metadata[\"overview\"])\n",
    "    doc_clean = [(clean(unicode(doc, 'utf-8'))).split() for doc in doc_complete] \n",
    "\n",
    "    dictionary = corpora.Dictionary(doc_clean)\n",
    "    doc_term_matrix = [dictionary.doc2bow(doc) for doc in doc_clean]\n",
    "\n",
    "    Lda = gensim.models.ldamodel.LdaModel\n",
    "    ldamodel = Lda(doc_term_matrix, num_topics=5, id2word = dictionary, passes=50)\n",
    "\n",
    "    probabs = metadata.apply(lda_topics, axis = 1)\n",
    "    probabs = pd.DataFrame(probabs.tolist(), columns=['topic.{}'.format(n) for n in range(1, 6)], index=metadata.index)\n",
    "    probabs.head()"
   ]
  },
  {
   "cell_type": "code",
   "execution_count": 4,
   "metadata": {
    "collapsed": false,
    "deletable": true,
    "editable": true
   },
   "outputs": [
    {
     "data": {
      "text/html": [
       "<div>\n",
       "<table border=\"1\" class=\"dataframe\">\n",
       "  <thead>\n",
       "    <tr style=\"text-align: right;\">\n",
       "      <th></th>\n",
       "      <th>budget</th>\n",
       "      <th>popularity</th>\n",
       "      <th>revenue</th>\n",
       "      <th>runtime</th>\n",
       "      <th>userrating</th>\n",
       "      <th>votes</th>\n",
       "      <th>polarity</th>\n",
       "      <th>subjectivity</th>\n",
       "      <th>love</th>\n",
       "      <th>dure</th>\n",
       "      <th>...</th>\n",
       "      <th>supporting_actor.95</th>\n",
       "      <th>supporting_actor.96</th>\n",
       "      <th>supporting_actor.97</th>\n",
       "      <th>supporting_actor.98</th>\n",
       "      <th>supporting_actor.99</th>\n",
       "      <th>topic.1</th>\n",
       "      <th>topic.2</th>\n",
       "      <th>topic.3</th>\n",
       "      <th>topic.4</th>\n",
       "      <th>topic.5</th>\n",
       "    </tr>\n",
       "    <tr>\n",
       "      <th>id</th>\n",
       "      <th></th>\n",
       "      <th></th>\n",
       "      <th></th>\n",
       "      <th></th>\n",
       "      <th></th>\n",
       "      <th></th>\n",
       "      <th></th>\n",
       "      <th></th>\n",
       "      <th></th>\n",
       "      <th></th>\n",
       "      <th></th>\n",
       "      <th></th>\n",
       "      <th></th>\n",
       "      <th></th>\n",
       "      <th></th>\n",
       "      <th></th>\n",
       "      <th></th>\n",
       "      <th></th>\n",
       "      <th></th>\n",
       "      <th></th>\n",
       "      <th></th>\n",
       "    </tr>\n",
       "  </thead>\n",
       "  <tbody>\n",
       "    <tr>\n",
       "      <th>77</th>\n",
       "      <td>9000000</td>\n",
       "      <td>3.666593</td>\n",
       "      <td>39723096</td>\n",
       "      <td>113.0</td>\n",
       "      <td>8.0</td>\n",
       "      <td>2927</td>\n",
       "      <td>0.004938</td>\n",
       "      <td>0.626543</td>\n",
       "      <td>0</td>\n",
       "      <td>0</td>\n",
       "      <td>...</td>\n",
       "      <td>0</td>\n",
       "      <td>0</td>\n",
       "      <td>0</td>\n",
       "      <td>0</td>\n",
       "      <td>0</td>\n",
       "      <td>0.0</td>\n",
       "      <td>0.194190</td>\n",
       "      <td>0.000000</td>\n",
       "      <td>0.076904</td>\n",
       "      <td>0.71971</td>\n",
       "    </tr>\n",
       "    <tr>\n",
       "      <th>98</th>\n",
       "      <td>103000000</td>\n",
       "      <td>4.943334</td>\n",
       "      <td>457640427</td>\n",
       "      <td>155.0</td>\n",
       "      <td>7.8</td>\n",
       "      <td>4343</td>\n",
       "      <td>-0.030000</td>\n",
       "      <td>0.300000</td>\n",
       "      <td>0</td>\n",
       "      <td>0</td>\n",
       "      <td>...</td>\n",
       "      <td>0</td>\n",
       "      <td>0</td>\n",
       "      <td>0</td>\n",
       "      <td>0</td>\n",
       "      <td>0</td>\n",
       "      <td>0.0</td>\n",
       "      <td>0.977244</td>\n",
       "      <td>0.000000</td>\n",
       "      <td>0.000000</td>\n",
       "      <td>0.00000</td>\n",
       "    </tr>\n",
       "    <tr>\n",
       "      <th>107</th>\n",
       "      <td>10000000</td>\n",
       "      <td>4.769231</td>\n",
       "      <td>83557872</td>\n",
       "      <td>103.0</td>\n",
       "      <td>7.6</td>\n",
       "      <td>2414</td>\n",
       "      <td>-0.072500</td>\n",
       "      <td>0.420833</td>\n",
       "      <td>0</td>\n",
       "      <td>0</td>\n",
       "      <td>...</td>\n",
       "      <td>0</td>\n",
       "      <td>0</td>\n",
       "      <td>0</td>\n",
       "      <td>0</td>\n",
       "      <td>0</td>\n",
       "      <td>0.0</td>\n",
       "      <td>0.299851</td>\n",
       "      <td>0.683642</td>\n",
       "      <td>0.000000</td>\n",
       "      <td>0.00000</td>\n",
       "    </tr>\n",
       "  </tbody>\n",
       "</table>\n",
       "<p>3 rows × 553 columns</p>\n",
       "</div>"
      ],
      "text/plain": [
       "        budget  popularity    revenue  runtime  userrating  votes  polarity  \\\n",
       "id                                                                            \n",
       "77     9000000    3.666593   39723096    113.0         8.0   2927  0.004938   \n",
       "98   103000000    4.943334  457640427    155.0         7.8   4343 -0.030000   \n",
       "107   10000000    4.769231   83557872    103.0         7.6   2414 -0.072500   \n",
       "\n",
       "     subjectivity love dure   ...    supporting_actor.95 supporting_actor.96  \\\n",
       "id                            ...                                              \n",
       "77       0.626543    0    0   ...                      0                   0   \n",
       "98       0.300000    0    0   ...                      0                   0   \n",
       "107      0.420833    0    0   ...                      0                   0   \n",
       "\n",
       "    supporting_actor.97 supporting_actor.98 supporting_actor.99 topic.1  \\\n",
       "id                                                                        \n",
       "77                    0                   0                   0     0.0   \n",
       "98                    0                   0                   0     0.0   \n",
       "107                   0                   0                   0     0.0   \n",
       "\n",
       "      topic.2   topic.3   topic.4  topic.5  \n",
       "id                                          \n",
       "77   0.194190  0.000000  0.076904  0.71971  \n",
       "98   0.977244  0.000000  0.000000  0.00000  \n",
       "107  0.299851  0.683642  0.000000  0.00000  \n",
       "\n",
       "[3 rows x 553 columns]"
      ]
     },
     "execution_count": 4,
     "metadata": {},
     "output_type": "execute_result"
    }
   ],
   "source": [
    "if not os.path.isfile(metadata_path):\n",
    "    # Merge the all metadata dfs\n",
    "    metadata_txt = metadata.drop(labels=['director', 'keywords', 'main_actor', 'supporting_actor', 'tagline', \n",
    "                                         'title', 'overview', 'producer', 'studios'], axis=1)\n",
    "\n",
    "    metadata_enc = metadata_enc.drop(labels=['budget', 'tagline', 'title', 'userrating', 'votes', 'keywords', \n",
    "                                             'overview', 'popularity', 'revenue', 'runtime'], axis=1)\n",
    "\n",
    "    metadata_df = pd.concat([metadata_txt, metadata_enc, probabs], axis=1).loc[movies['genres'].dropna().index]\n",
    "    metadata_df.to_pickle('./Datasets/metadata.pkl')\n",
    "else:\n",
    "    metadata_df = pd.read_pickle('./Datasets/metadata.pkl')\n",
    "    \n",
    "metadata_df.head(3)"
   ]
  },
  {
   "cell_type": "markdown",
   "metadata": {
    "collapsed": true,
    "deletable": true,
    "editable": true
   },
   "source": [
    "### Posters Dataset"
   ]
  },
  {
   "cell_type": "code",
   "execution_count": 12,
   "metadata": {
    "collapsed": true,
    "deletable": true,
    "editable": true
   },
   "outputs": [],
   "source": [
    "STANDARD_SIZE = (75, 42)\n",
    "def img_to_matrix(img):\n",
    "    img = img.resize(STANDARD_SIZE)\n",
    "    img = list(img.getdata())\n",
    "    img = map(list, img)\n",
    "    img = np.array(img)\n",
    "    return img\n",
    "\n",
    "def flatten_image(img):\n",
    "    \"\"\"\n",
    "    takes in an (m, n) numpy array and flattens it \n",
    "    into an array of shape (1, m * n)\n",
    "    \"\"\"\n",
    "    s = img.shape[0] * img.shape[1]\n",
    "    img_wide = img.reshape(1, s)\n",
    "    return img_wide[0]"
   ]
  },
  {
   "cell_type": "code",
   "execution_count": 226,
   "metadata": {
    "collapsed": false,
    "deletable": true,
    "editable": true
   },
   "outputs": [],
   "source": [
    "pca_path = './Datasets/pca_vects.csv'\n",
    "\n",
    "if not os.path.isfile(pca_path):\n",
    "    images = []\n",
    "    \n",
    "    for p in posters['poster']:\n",
    "        p = p.convert(\"RGB\")\n",
    "        images.append(p)\n",
    "\n",
    "    ims = [flatten_image(img_to_matrix(img)) for img in images]\n",
    "    pca = RandomizedPCA(n_components=10)\n",
    "    X = pca.fit_transform(ims)\n",
    "    pca_vects = pd.DataFrame(X, index=posters.index, columns=[\"pca1\",\"pca2\",\"pca3\",\"pca4\",\"pca5\",\n",
    "                                                              \"pca6\",\"pca7\",\"pca8\",\"pca9\",\"pca10\"])\n",
    "    pca_vects = pca_vects.loc[metadata_df.index]\n",
    "    pca_vects.to_csv(pca_path)\n",
    "    \n",
    "else:\n",
    "    pca_vects = pd.read_csv(pca_path, index_col=0)"
   ]
  },
  {
   "cell_type": "markdown",
   "metadata": {
    "deletable": true,
    "editable": true
   },
   "source": [
    "### Models\n",
    "\n",
    "We decided to implement two different models on our datasets -- a Random Forest Classifier and a Support Vector Machine. Recall from last milestone that we are using the “OnevsRestClassifier” function, which allows us to handle multilabel classification; we simply input a classifier (e.g.: RandomForest, SVM, etc) into the function and it outputs the probabilities that the classifier has assigned to each of the nineteen genres for every movie. \n",
    "\n",
    "We decided to use a Random Forest Classifier because random forests do not expect linear features or that features interact linearly; furthermore, random forests have the ability to handle high dimensional spaces and a large number of training samples. The parameters that we decided to tune for random forest were as follows: “gini” vs “entropy” criterion and the depth of each tree. Because we had already significantly cut down the number of features in the dataset through PCA, we did not think it necessary to tune n_features. After tuning, we found that the gini criterion, which chooses how to split decision trees by minimizing misclassification, performs essentially the same as entropy, which splits trees based on the highest amount of information gain. Furthermore, after tuning we found that trees with smaller depths (under 10) performed slightly better on the testing set, probably because trees with larger depths will overfit the training set. \n",
    "\n",
    "Like random forests, SVMs are also useful for modeling non-linear relations, which is why we chose this as our second classifier. We decided to use the rbf kernel over the linear kernel, because with so many genre labels, many that were quite correlated, we assumed that linear decision boundaries of the data would not be as effective. The parameters that we decided to tune for SVM were cost and gamma. Higher gamma values mean that the training sample should have a large influence on the model while lower gamma values mean they should have little influence; after cross validation, the best gamma parameter was 2, implying that the testing set score is higher when the training sample has less influence on the model fit. The cost similarly is extremely low, with the best parameter being 0.001; the lower the cost, the more train misclassifications there are, while higher costs severely penalize erroneous train classifications. Thus, since both the gamma and cost parameters are quite low, we see that the tuning of SVM aims at preventing overfitting of the training set on the model. \n",
    "\n",
    "\n",
    "#### Performance Metrics\n",
    "\n",
    "Determining the correct performance metric to use was something of a challenge. We knew we wanted to split our data into test and train sets and then calculate accuracy on the test set, but it took us some time to come up with a useful way of defining accuracy. The scoring measure provided by the OneVsRest Function was too harsh of a metric, as it required that all labels for one movie be correct in order to count as “correctly classified;” with 19 different labels, some that are very similar to each other, it is not reasonable to judge the metric only if all 19 genres are predicted correctly. In other words, we believed there should be partial credit. So, for instance, if a movie was considered a “Romance” and “Drama”, but our model only classified it as “Romance”, we should still account this into our score function. \n",
    "\n",
    "Our first thought was to take the mean number of correct matches between the predicted binary values for each genre and the true values. At first, this looked promising, as we were getting test-accuracies of 0.88 with both Random Forest and SVM.\n",
    "\n",
    "Further investigation indicated that something that was not right however. Training a model based on only the image-pca vectors produced an eerily similar test accuracy of 0.87. When we looked closer, we realized that all of our models were returning all 0’s for every prediction. \n",
    "\n",
    "To come up with a better metric for performance, we created an approach that focuses on labels that are 1 (meaning that movie is of that specific genre). For each movie, a set is created that is a union of the true genre labels that are 1 and the predicted genre labels that are 1. Accuracy is then calculated on this set. For instance, if the actual genre row is [0, 0, 0, 1, 0, 1] and the predicted row is [0, 0, 1, 0, 0, 1], we will only compare points 3, 4, and 7. We believe this approach is better than the previous approach because we are more interested in predicting when a movie is a specific genre than when it is not a specific genre."
   ]
  },
  {
   "cell_type": "code",
   "execution_count": 238,
   "metadata": {
    "collapsed": false,
    "deletable": true,
    "editable": true
   },
   "outputs": [],
   "source": [
    "def score_genres(model, x_test, y_test, threshold=0.25):\n",
    "    predicted = np.array([[int(p > threshold) for p in row] for row in model.predict_proba(x_test)])\n",
    "    means = []\n",
    "    \n",
    "    for pred, actual in zip(predicted, y_test):\n",
    "        label_ind = np.unique(np.concatenate((np.nonzero(pred), np.nonzero(actual)), axis=1))\n",
    "        means.append(np.mean(pred[label_ind] == actual[label_ind]))\n",
    "        \n",
    "    return np.mean(means)\n",
    "\n",
    "def score_cost_gamma(x, y, min_c_power=-4, max_c_power=1, min_g_power=-2, max_g_power=2):\n",
    "    costs = [10 ** p for p in range(min_c_power, max_c_power + 1)]\n",
    "    gammas = [2 ** p for p in range(min_g_power, max_g_power + 1)]\n",
    "    cv_scores = []\n",
    "    \n",
    "    # Test SVM accuracy\n",
    "    for cost in costs:\n",
    "        for gamma in gammas:\n",
    "            model = OneVsRestClassifier(SVC(C=cost, gamma=gamma, probability=True), n_jobs=-1)\n",
    "            score = np.mean(cross_val_score(model, x, y, scoring=score_genres, cv=5))\n",
    "            cv_scores.append([score, cost, gamma])\n",
    "            print score, cost, gamma\n",
    "            \n",
    "    # Find best cost and gamma\n",
    "    max_score_ind = np.argmax(np.array(cv_scores)[:,0])\n",
    "    print 'Maximum accuracy: {:.3f}% with cost = {} and gamma = {}'.format(\n",
    "        cv_scores[max_score_ind][0] * 100, cv_scores[max_score_ind][1], cv_scores[max_score_ind][2])\n",
    "    \n",
    "def score_criteria_depth(x, y, min_depth=1, max_depth=10):\n",
    "    _, axes = plt.subplots(1, 2, figsize=(16, 5))\n",
    "    depths = range(min_depth, max_depth + 1)\n",
    "\n",
    "    for i in range(len(axes)):\n",
    "        criterion = 'entropy' if i == 1 else 'gini'\n",
    "        cv_test = []\n",
    "\n",
    "        # Test RF accuracy\n",
    "        for depth in depths:\n",
    "            rf = OneVsRestClassifier(RandomForestClassifier(max_depth=depth,\n",
    "                                                            criterion=criterion, n_jobs=-1), n_jobs=-1)\n",
    "            rf.fit(x_train, y_train)\n",
    "            score = np.mean(cross_val_score(rf, x, y, scoring=score_genres, cv=5))\n",
    "            cv_test.append(score)\n",
    "\n",
    "        # Plot accuracy lines\n",
    "        axes[i].plot(depths, cv_test, linewidth=2, alpha=0.7)\n",
    "        axes[i].set_title('Mean accuracy per maximum depth ({})'.format(criterion))\n",
    "        axes[i].set_xlabel('Depth'); axes[i].set_ylabel('Accuracy')\n",
    "        axes[i].grid()\n",
    "\n",
    "    plt.tight_layout(); plt.show()\n",
    "    \n",
    "def threshold_scores(model):\n",
    "    thresholds = np.arange(1.05, step=0.05)\n",
    "    scores = [score_genres(model, x_test, y_test, t) for t in thresholds]\n",
    "\n",
    "    plt.subplots(figsize=(6, 3.5), dpi=150)\n",
    "    plt.plot(thresholds, scores, linewidth=2, alpha=0.7)\n",
    "    plt.title('Mean accuracy per threshold')\n",
    "    plt.xlabel('Threshold'); plt.ylabel('Accuracy')\n",
    "    plt.grid(); plt.show()"
   ]
  },
  {
   "cell_type": "code",
   "execution_count": 196,
   "metadata": {
    "collapsed": false,
    "deletable": true,
    "editable": true
   },
   "outputs": [
    {
     "name": "stdout",
     "output_type": "stream",
     "text": [
      "PC1: 97.6%\n",
      "PC2: 2.43%\n",
      "PC3: 1.04e-09%\n",
      "PC4: 5.1e-12%\n",
      "PC5: 1.12e-14%\n"
     ]
    }
   ],
   "source": [
    "pca = PCA(n_components=5)\n",
    "pca.fit(metadata_df.as_matrix())\n",
    "\n",
    "for ind, var in enumerate(pca.explained_variance_ratio_):\n",
    "    print 'PC{}: {:.3}%'.format(ind + 1, var * 100)"
   ]
  },
  {
   "cell_type": "markdown",
   "metadata": {
    "deletable": true,
    "editable": true
   },
   "source": [
    "Almost all variance in our dataset can be explained with just the first two PCA components, so we will use them to fit our models:"
   ]
  },
  {
   "cell_type": "markdown",
   "metadata": {
    "deletable": true,
    "editable": true
   },
   "source": [
    "### Model 1: SVM"
   ]
  },
  {
   "cell_type": "code",
   "execution_count": 192,
   "metadata": {
    "collapsed": false,
    "deletable": true,
    "editable": true
   },
   "outputs": [
    {
     "name": "stdout",
     "output_type": "stream",
     "text": [
      "0.271048807018 0.0001 0.25\n",
      "0.23782464341 0.0001 0.5\n",
      "0.253552177438 0.0001 1\n",
      "0.279891352299 0.0001 2\n",
      "0.268238902814 0.0001 4\n",
      "0.279889337256 0.001 0.25\n",
      "0.279869424871 0.001 0.5\n",
      "0.279891352299 0.001 1\n",
      "0.279891352299 0.001 2\n",
      "0.279863469008 0.001 4\n",
      "0.279889337256 0.01 0.25\n",
      "0.279889337256 0.01 0.5\n",
      "0.272380590129 0.01 1\n",
      "0.27137596287 0.01 2\n",
      "0.279863469008 0.01 4\n",
      "0.279889337256 0.1 0.25\n",
      "0.279889337256 0.1 0.5\n",
      "0.279891352299 0.1 1\n",
      "0.279891352299 0.1 2\n",
      "0.279863469008 0.1 4\n",
      "0.279889337256 1 0.25\n",
      "0.279889337256 1 0.5\n",
      "0.279891352299 1 1\n",
      "0.279891352299 1 2\n",
      "0.279863469008 1 4\n",
      "0.279889337256 10 0.25\n",
      "0.279889337256 10 0.5\n",
      "0.272380590129 10 1\n",
      "0.279891352299 10 2\n",
      "0.279863469008 10 4\n",
      "Maximum accuracy: 27.989% with cost = 0.0001 and gamma = 2\n"
     ]
    }
   ],
   "source": [
    "# tuning svm on PCA components = 2\n",
    "pca = PCA(n_components=2)\n",
    "pca.fit(metadata_df.as_matrix())\n",
    "x_reduced = pca.transform(metadata_df.as_matrix())\n",
    "\n",
    "score_cost_gamma(x_reduced, genres.as_matrix())"
   ]
  },
  {
   "cell_type": "code",
   "execution_count": 197,
   "metadata": {
    "collapsed": false,
    "deletable": true,
    "editable": true
   },
   "outputs": [
    {
     "data": {
      "text/plain": [
       "0.28169222089472989"
      ]
     },
     "execution_count": 197,
     "metadata": {},
     "output_type": "execute_result"
    }
   ],
   "source": [
    "# svm on pca components = 2 after tuning\n",
    "x_train, x_test, y_train, y_test = sk_split(x_reduced, genres.as_matrix(), train_size=0.8)\n",
    "\n",
    "svm_model = OneVsRestClassifier(SVC(C=0.001, gamma=2, probability=True), n_jobs=-1)\n",
    "svm_model.fit(x_train, y_train)\n",
    "score_genres(svm_model, x_test, y_test, 0.25)"
   ]
  },
  {
   "cell_type": "code",
   "execution_count": 220,
   "metadata": {
    "collapsed": false,
    "deletable": true,
    "editable": true
   },
   "outputs": [
    {
     "data": {
      "image/png": "[encoded data removed]",
      "text/plain": [
       "<matplotlib.figure.Figure at 0x7f62d7e66390>"
      ]
     },
     "metadata": {},
     "output_type": "display_data"
    }
   ],
   "source": [
    "# how score changes with different thresholds\n",
    "threshold_scores(svm_model)"
   ]
  },
  {
   "cell_type": "markdown",
   "metadata": {
    "deletable": true,
    "editable": true
   },
   "source": [
    "This is not included here since it would make the notebook unnecessarily long, but we tested all thresholds with the random forest classifier models, but 0.25 still had the best performance. "
   ]
  },
  {
   "cell_type": "markdown",
   "metadata": {
    "deletable": true,
    "editable": true
   },
   "source": [
    "### Model 2: Random Forest"
   ]
  },
  {
   "cell_type": "code",
   "execution_count": 245,
   "metadata": {
    "collapsed": false,
    "deletable": true,
    "editable": true
   },
   "outputs": [
    {
     "data": {
      "image/png": "[encoded data removed]",
      "text/plain": [
       "<matplotlib.figure.Figure at 0x7f62d7e7f110>"
      ]
     },
     "metadata": {},
     "output_type": "display_data"
    }
   ],
   "source": [
    "# tuning random forest for criterion and depth\n",
    "score_criteria_depth(x_reduced, genres.as_matrix())"
   ]
  },
  {
   "cell_type": "code",
   "execution_count": 237,
   "metadata": {
    "collapsed": false,
    "deletable": true,
    "editable": true
   },
   "outputs": [
    {
     "data": {
      "text/plain": [
       "0.29476256850808819"
      ]
     },
     "execution_count": 237,
     "metadata": {},
     "output_type": "execute_result"
    }
   ],
   "source": [
    "# Use depth=3 and criterion='gini' from the graphs above\n",
    "rf_model = OneVsRestClassifier(RandomForestClassifier(max_depth=3, n_jobs=-1), n_jobs=-1)\n",
    "rf_model.fit(x_train, y_train)\n",
    "score_genres(rf_model, x_test, y_test)"
   ]
  },
  {
   "cell_type": "markdown",
   "metadata": {
    "deletable": true,
    "editable": true
   },
   "source": [
    "We find that the random forest model performs marginally better than SVM on our metadata dataset, and so we will explore the random forest model further by seeing how a model fit just on the poster PCA vectors does as well as how a model fit on the poster PCA vectors combined with metadata does. "
   ]
  },
  {
   "cell_type": "code",
   "execution_count": 236,
   "metadata": {
    "collapsed": false,
    "deletable": true,
    "editable": true
   },
   "outputs": [
    {
     "data": {
      "image/png": "[encoded data removed]",
      "text/plain": [
       "<matplotlib.figure.Figure at 0x7f62d7eba1d0>"
      ]
     },
     "metadata": {},
     "output_type": "display_data"
    }
   ],
   "source": [
    "# tune random forest on just poster pca vectors \n",
    "score_criteria_depth(pca_vects.as_matrix(), genres.as_matrix())"
   ]
  },
  {
   "cell_type": "markdown",
   "metadata": {
    "deletable": true,
    "editable": true
   },
   "source": [
    "It seems that using just the poster PCA vectors can result is slighly better predictions with a random forest classifier. Let us see what happens when we append them to the original dataset before reducing it."
   ]
  },
  {
   "cell_type": "code",
   "execution_count": 243,
   "metadata": {
    "collapsed": false,
    "deletable": true,
    "editable": true
   },
   "outputs": [
    {
     "data": {
      "image/png": "[encoded data removed]",
      "text/plain": [
       "<matplotlib.figure.Figure at 0x7f62d7f59190>"
      ]
     },
     "metadata": {},
     "output_type": "display_data"
    }
   ],
   "source": [
    "# tune random forest on merged dataset (that includes metadata and poster pca)\n",
    "metadata_pca = pd.concat([metadata_df, pca_vects], axis=1)\n",
    "\n",
    "pca = PCA(n_components=3)\n",
    "pca.fit(metadata_pca.as_matrix())\n",
    "pca_reduced = pca.transform(metadata_pca.as_matrix())\n",
    "\n",
    "score_criteria_depth(pca_reduced, genres.as_matrix())"
   ]
  },
  {
   "cell_type": "markdown",
   "metadata": {
    "deletable": true,
    "editable": true
   },
   "source": [
    "Combining the metadata with the poster PCA vectors gives us a marginal improvement in accuracy, so we will use this new dataset with `max_depth=5` and `criterion=entropy`:"
   ]
  },
  {
   "cell_type": "code",
   "execution_count": 244,
   "metadata": {
    "collapsed": false,
    "deletable": true,
    "editable": true
   },
   "outputs": [
    {
     "data": {
      "text/plain": [
       "0.33848969296997972"
      ]
     },
     "execution_count": 244,
     "metadata": {},
     "output_type": "execute_result"
    }
   ],
   "source": [
    "xp_train, xp_test, yp_train, yp_test = sk_split(pca_reduced, genres.as_matrix(), train_size=0.8)\n",
    "\n",
    "# Use depth=5 and criterion='entropy' from the graphs above\n",
    "rf_pca_model = OneVsRestClassifier(RandomForestClassifier(criterion='entropy', max_depth=5, n_jobs=-1), n_jobs=-1)\n",
    "rf_pca_model.fit(xp_train, yp_train)\n",
    "score_genres(rf_pca_model, xp_test, yp_test)"
   ]
  },
  {
   "cell_type": "markdown",
   "metadata": {
    "deletable": true,
    "editable": true
   },
   "source": [
    "### Differences Between Models\n",
    "\n",
    "The “Descriptions of Our Models” section largely covers the strengths of each model. In this particular problem, the main differences between the two models were not immediately apparent. Knowledge of how each model works, however, gives some insight into what makes RandomForest stronger in some scenarios and SVM stronger in others.\n",
    "\n",
    "Importantly, SVM should perform better in high-dimensional space. Random Forest, on the other hand, should perform better when there is a large amount of data. Random Forest should also be faster to train. Here, we believe that Random Forest slightly outperformed SVM because there was a huge amount of data (about 8500 movies). In addition, PCA brought the dataset down to only a few features, so SVM should not have had an advantage there.\n",
    "\n",
    "### Conclusion\n",
    "\n",
    "As described in the “Performance Metrics” section, we eventually settled on calculating accuracy by focusing on both the genres that were supposed to be present and the genres that were predicted. We achieved 28% test-set accuracy using tuned SVM with a radial kernel and an adjusted probability threshold. Originally, our model would classify a movie a certain genre if the probability to be that genre was over 0.5. However, we found that this threshold was too high, because generally the model would assign relatively low probabilities to each genre (probably because the dataset is so large that the genre appears quite infrequently). After reducing the threshold to 0.25, we found that the model assigned 1’s to genres more liberally, and hence the score (using our score function) increased. \n",
    "\n",
    "We also trained a Random Forest model and the cross-validated accuracy was slightly higher (a little over 29%), particularly after reducing the probability threshold as we did in our SVM model. We then tuned a new Random Forest model using the 10 top image-pca vectors and another model with a combination of our metadata features and the image-pca vectors. The latter marginally outperformed all other models with a cross-validated accuracy of 33.5%. \n",
    "\n",
    "Though a test accuracy of 0.35 is certainly not the most impressive accuracy anyone has ever seen, we believe this is a challenging problem and it is a good start without using any Deep Learning methods.\n",
    "\n",
    "We believe that perhaps some more feature engineering could improve the score. Particularly, we could look into more natural language processing for the movie summary. We could also incorporate movie reviews into the dataset by performing sentiment analysis and topic modeling on them. "
   ]
  }
 ],
 "metadata": {
  "anaconda-cloud": {},
  "kernelspec": {
   "display_name": "Python [default]",
   "language": "python",
   "name": "python2"
  },
  "language_info": {
   "codemirror_mode": {
    "name": "ipython",
    "version": 2
   },
   "file_extension": ".py",
   "mimetype": "text/x-python",
   "name": "python",
   "nbconvert_exporter": "python",
   "pygments_lexer": "ipython2",
   "version": "2.7.9"
  }
 },
 "nbformat": 4,
 "nbformat_minor": 0
}
