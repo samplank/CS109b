{
 "cells": [
  {
   "cell_type": "code",
   "execution_count": 1,
   "metadata": {
    "collapsed": true
   },
   "outputs": [],
   "source": [
    "import numpy as np\n",
    "import pandas as pd\n",
    "import matplotlib.pyplot as plt"
   ]
  },
  {
   "cell_type": "code",
   "execution_count": 2,
   "metadata": {
    "collapsed": true
   },
   "outputs": [],
   "source": [
    "predictions = np.load('Datasets/predictions/predictions_tuned.npy')\n",
    "predictions = pd.DataFrame(predictions)"
   ]
  },
  {
   "cell_type": "code",
   "execution_count": 3,
   "metadata": {
    "collapsed": true
   },
   "outputs": [],
   "source": [
    "genres = np.load('Datasets/genre_names.npy')"
   ]
  },
  {
   "cell_type": "code",
   "execution_count": 4,
   "metadata": {
    "collapsed": true
   },
   "outputs": [],
   "source": [
    "predictions.columns = genres"
   ]
  },
  {
   "cell_type": "code",
   "execution_count": null,
   "metadata": {
    "collapsed": true
   },
   "outputs": [],
   "source": [
    "counts = {}\n",
    "for column in predictions.columns:\n",
    "    counts[column] = {}\n",
    "    \n",
    "    for sec_column in predictions.columns:\n",
    "        counts[column][sec_column] = 0.0\n",
    "\n",
    "    for idx in predictions.index:\n",
    "        if predictions.loc[idx, column] == 1:\n",
    "            for genre in predictions.columns:\n",
    "                if predictions.loc[idx, genre] == 1:\n",
    "                    counts[column][genre] += 1.0\n",
    "    \n",
    "    for genre in predictions.columns:\n",
    "        try:\n",
    "            counts[column][genre] = counts[column][genre] / predictions[predictions[column] == 1].shape[0]\n",
    "        except:\n",
    "            pass"
   ]
  },
  {
   "cell_type": "code",
   "execution_count": null,
   "metadata": {
    "collapsed": true
   },
   "outputs": [],
   "source": [
    "df_counts = pd.DataFrame(counts)"
   ]
  },
  {
   "cell_type": "code",
   "execution_count": null,
   "metadata": {
    "collapsed": true
   },
   "outputs": [],
   "source": [
    "plt.subplots(figsize=(8, 4.5), dpi=200)\n",
    "plt.pcolor(df_counts)\n",
    "plt.yticks(np.arange(0.5, len(df_counts.index), 1), df_counts.index)\n",
    "plt.xticks(np.arange(0.5, len(df_counts.columns), 1), df_counts.columns, rotation=75)\n",
    "plt.colorbar()\n",
    "plt.show()"
   ]
  },
  {
   "cell_type": "code",
   "execution_count": null,
   "metadata": {
    "collapsed": true
   },
   "outputs": [],
   "source": []
  }
 ],
 "metadata": {
  "anaconda-cloud": {},
  "kernelspec": {
   "display_name": "Python [default]",
   "language": "python",
   "name": "python2"
  },
  "language_info": {
   "codemirror_mode": {
    "name": "ipython",
    "version": 2
   },
   "file_extension": ".py",
   "mimetype": "text/x-python",
   "name": "python",
   "nbconvert_exporter": "python",
   "pygments_lexer": "ipython2",
   "version": "2.7.9"
  }
 },
 "nbformat": 4,
 "nbformat_minor": 1
}
